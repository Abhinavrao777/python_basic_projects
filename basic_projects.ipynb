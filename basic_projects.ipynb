{
 "cells": [
  {
   "cell_type": "code",
   "execution_count": 2,
   "metadata": {},
   "outputs": [],
   "source": [
    "import random"
   ]
  },
  {
   "cell_type": "code",
   "execution_count": null,
   "metadata": {},
   "outputs": [],
   "source": [
    "#1Create Acronyms using Python"
   ]
  },
  {
   "cell_type": "code",
   "execution_count": null,
   "metadata": {},
   "outputs": [],
   "source": []
  },
  {
   "cell_type": "code",
   "execution_count": 1,
   "metadata": {
    "scrolled": true
   },
   "outputs": [
    {
     "name": "stdout",
     "output_type": "stream",
     "text": [
      "Enter a Phrase: To be honest\n",
      "Acronyms is :  TBH\n"
     ]
    }
   ],
   "source": [
    "def Acronyms_finder(x):\n",
    "    text=x.split() #split method is used to convert a string into list \n",
    "    a=\" \"  #empty string\n",
    "    for i in text: #for loop\n",
    "        a = a+str(i[0]).upper()   \n",
    "    return a\n",
    "user_input = input(\"Enter a Phrase: \")  #by default python takes input as string\n",
    "print(\"Acronyms is :\",Acronyms_finder(user_input)) "
   ]
  },
  {
   "cell_type": "code",
   "execution_count": 2,
   "metadata": {},
   "outputs": [
    {
     "data": {
      "text/plain": [
       "[' HW', ' ICC', ' BCCI', ' IDK', ' TBH']"
      ]
     },
     "execution_count": 2,
     "metadata": {},
     "output_type": "execute_result"
    }
   ],
   "source": [
    "#list of phrases is given and find out the Acronyms\n",
    "Phrase_list=[\"hello world\",\"international cricket  council\",\"boardof cricket council India\",\"i don't know\",\"to be honest\"]\n",
    "\n",
    "Acronyms_list=list(map(Acronyms_finder,Phrase_list)) #map function use to iterate over the list\n",
    "Acronyms_list  "
   ]
  },
  {
   "cell_type": "code",
   "execution_count": 6,
   "metadata": {},
   "outputs": [],
   "source": [
    "#2Email Slicer with Python"
   ]
  },
  {
   "cell_type": "code",
   "execution_count": 3,
   "metadata": {},
   "outputs": [
    {
     "name": "stdout",
     "output_type": "stream",
     "text": [
      "enter the email of person : \n",
      "abhinavrao258@gmail.com\n"
     ]
    },
    {
     "data": {
      "text/plain": [
       "\" Username : 'abhinavrao258' Domain_Name :'gmail.com'\""
      ]
     },
     "execution_count": 3,
     "metadata": {},
     "output_type": "execute_result"
    }
   ],
   "source": [
    "#split method is used to convert a string into list and will assign to username and domain\n",
    "def Email_Slicer(email):\n",
    "    username,domain=email.split(\"@\")   \n",
    "    return (f\" Username : '{username}' Domain_Name :'{domain}'\")\n",
    "email=input(\"enter the email of person : \\n\")\n",
    "Email_Slicer(email)"
   ]
  },
  {
   "cell_type": "code",
   "execution_count": 5,
   "metadata": {},
   "outputs": [],
   "source": [
    "##list of emails is given and find out the username and domain_name\n",
    "email_list=[\"abc@gmail.com\",\"hello@world.com\",\"abx@cleverprogrammer.com\",\"helloworld@453.com\",\"msd435@gmail.com\"]"
   ]
  },
  {
   "cell_type": "code",
   "execution_count": 6,
   "metadata": {},
   "outputs": [
    {
     "data": {
      "text/plain": [
       "[\" Username : 'abc' Domain_Name :'gmail.com'\",\n",
       " \" Username : 'hello' Domain_Name :'world.com'\",\n",
       " \" Username : 'abx' Domain_Name :'cleverprogrammer.com'\",\n",
       " \" Username : 'helloworld' Domain_Name :'453.com'\",\n",
       " \" Username : 'msd435' Domain_Name :'gmail.com'\"]"
      ]
     },
     "execution_count": 6,
     "metadata": {},
     "output_type": "execute_result"
    }
   ],
   "source": [
    "Slicer_list=list(map(Email_Slicer,email_list))\n",
    "Slicer_list"
   ]
  },
  {
   "cell_type": "code",
   "execution_count": 20,
   "metadata": {},
   "outputs": [],
   "source": []
  },
  {
   "cell_type": "code",
   "execution_count": 21,
   "metadata": {},
   "outputs": [
    {
     "name": "stdout",
     "output_type": "stream",
     "text": [
      "A long time ago, a turtle that lived in Germany, went to the laundry and Eats a burger\n"
     ]
    }
   ],
   "source": [
    "import random\n",
    "when = ['A few years ago', 'Yesterday', 'Last night', 'A long time ago','On 20th Jan']\n",
    "who = ['a rabbit', 'an elephant', 'a mouse', 'a turtle','a cat']\n",
    "name = ['Ali', 'Miriam','daniel', 'Hoouk', 'Starwalker']\n",
    "residence = ['Barcelona','India', 'Germany', 'Venice', 'England']\n",
    "went = ['cinema', 'university','seminar', 'school', 'laundry']\n",
    "happened = ['made a lot of friends','Eats a burger', 'found a secret key', 'solved a mistery', 'wrote a book']\n",
    "print(random.choice(when) + ', ' + random.choice(who) + ' that lived in ' + random.choice(residence) + ', went to the ' + random.choice(went) + ' and ' + random.choice(happened))"
   ]
  },
  {
   "cell_type": "code",
   "execution_count": null,
   "metadata": {},
   "outputs": [],
   "source": [
    "#3 Story Generator using  python"
   ]
  },
  {
   "cell_type": "code",
   "execution_count": 51,
   "metadata": {},
   "outputs": [],
   "source": [
    "\n",
    "#when ,who,name,residence,went,happened\n",
    "import random"
   ]
  },
  {
   "cell_type": "code",
   "execution_count": 52,
   "metadata": {},
   "outputs": [],
   "source": [
    "when=[\"5 years ago\",\"On 17th August 2020\",\"In 1920\",\"During world war 2\",\"A long time ago\"]\n",
    "name_list1=[\"Shashank\",\"Manshu\",\"Aakash\",\"Anwar\",\"Rahul\"]\n",
    "name_list2=[\"Abhinav\",\"MSD\",\"ABD\",\"Bumrah\",\"Jethayi\"]\n",
    "Residence=[\"Dubai\",\"Germany\",\"France\",\"Sweden\",\"Norway\"]\n",
    "Went=[\"Russia\",\"USA\",\"China\",\"Canada\",\"IRAQ\"]\n",
    "Happened=[\"take part in War.\",\"stay over there to watch a world cup match.\",\"work there for Company.\"\n",
    ",\"solved a mystery.\",\"get to know about different cultures.\"]"
   ]
  },
  {
   "cell_type": "code",
   "execution_count": 53,
   "metadata": {},
   "outputs": [],
   "source": [
    "def story_Generator(when,name_list1,name_list2,Residence,went,Happened):\n",
    "    print(random.choice(when) + ', ' + random.choice(name_list1)  + \" and \" +  random.choice(name_list2) +' that lived in ' + \n",
    "      random.choice(Residence) + ', went to the ' + random.choice(Went) + ' and ' + random.choice(Happened) +\n",
    "     \" They  earned $\",random.randint(100,200))\n",
    "#random.choice does Choose a random element from a non-empty sequence"
   ]
  },
  {
   "cell_type": "code",
   "execution_count": 54,
   "metadata": {},
   "outputs": [
    {
     "name": "stdout",
     "output_type": "stream",
     "text": [
      "In 1920, Anwar and Bumrah that lived in Sweden, went to the USA and take part in War. They  earned $ 149\n"
     ]
    }
   ],
   "source": [
    "story_teller(when,name_list1,name_list2,Residence,Went,Happened)"
   ]
  },
  {
   "cell_type": "code",
   "execution_count": 69,
   "metadata": {},
   "outputs": [],
   "source": [
    "#4 Generating passwords using python"
   ]
  },
  {
   "cell_type": "code",
   "execution_count": 100,
   "metadata": {},
   "outputs": [
    {
     "name": "stdout",
     "output_type": "stream",
     "text": [
      "enter the password length password lenth must be 8 or greather than that :8\n"
     ]
    },
    {
     "data": {
      "text/plain": [
       "'xy*$SFQ5'"
      ]
     },
     "execution_count": 100,
     "metadata": {},
     "output_type": "execute_result"
    }
   ],
   "source": [
    "def password_generator():\n",
    "    l=int(input(\"enter the password length password lenth must be 8 or greather than that :\"))\n",
    "    alpha=[\"A\", \"B\", \"C\", \"D\", \"E\",\"F\",\"G\",\"H\",\"I\",\"J\",\"K\",\"L\",\"M\",\"N\",\"O\",\"P\",\"Q\",\"R\",\"S\",\"T\",\"U\",\"V\",\"X\",\"Y\",\"Z\"]\n",
    "    special=[\"@\",\"!\",\"#\",\"$\",\"%\",\"^\",\"&\",\"*\"]\n",
    "    al=\"\"\n",
    "    sp=\"\"\n",
    "    num=\"\"\n",
    "    \n",
    "    aupper=random.sample(alpha,k=l-5) \n",
    "    au_1=list(map(lambda x:x.upper(),aupper))\n",
    "    au=\"\".join(au_1)\n",
    "    au\n",
    "    spec=random.sample(special,l-6)  \n",
    "    s=\"\".join(spec)    #special character\n",
    "\n",
    "    alower=random.sample(alpha,l-6) \n",
    "    al_1=list(map(lambda x:x.lower(),alower))   #map function\n",
    "    al=\"\".join(al_1) # joins all elements\n",
    "    al\n",
    "    \n",
    "    num=random.sample(range(0,9),l-7)\n",
    "    nu_1=list(map(lambda x:str(x),num)) #numbers\n",
    "    nu=\"\".join(nu_1)  # joins all elements\n",
    "    \n",
    "    pass_list=[au,al,nu,s]\n",
    "\n",
    "    semi_pass=random.sample(pass_list,k=4)  #sample--Chooses k unique random elements from a population sequence or set.\n",
    "\n",
    "    pass_word=\"\".join(semi_pass)\n",
    "\n",
    "    return(pass_word)\n",
    "\n",
    "password_generator()"
   ]
  },
  {
   "cell_type": "code",
   "execution_count": 6,
   "metadata": {},
   "outputs": [],
   "source": [
    "#5\n",
    "#Rock, Paper and Scissors Game with Python"
   ]
  },
  {
   "cell_type": "code",
   "execution_count": 8,
   "metadata": {},
   "outputs": [],
   "source": [
    "import random\n",
    "def game_maker():\n",
    "    \n",
    "    choices = [\"Rock\", \"Paper\", \"Scissors\"]\n",
    "    computer = random.choice(choices)\n",
    "    cpu_score = 0\n",
    "    player_score = 0\n",
    "    n=int(input(\"enter the nu of times u wanna play games :\"))\n",
    "    turn=0\n",
    "    while turn<n:\n",
    "        player = input(\"Rock, Paper or  Scissors?\").capitalize()\n",
    "        ## Conditions of Rock,Paper and Scissors\n",
    "        if player == computer:\n",
    "            print(\"Tie!\")\n",
    "        elif player == \"Rock\":\n",
    "            if computer == \"Paper\":\n",
    "                print(\"You lose!\", computer, \"covers\", player)\n",
    "                cpu_score+=1\n",
    "            else:\n",
    "                print(\"You win!\", player, \"smashes\", computer)\n",
    "                player_score+=1\n",
    "        elif player == \"Paper\":\n",
    "            if computer == \"Scissors\":\n",
    "                print(\"You lose!\", computer, \"cut\", player)\n",
    "                cpu_score+=1\n",
    "            else:\n",
    "                print(\"You win!\", player, \"covers\", computer)\n",
    "                player_score+=1\n",
    "        elif player == \"Scissors\":\n",
    "            if computer == \"Rock\":\n",
    "                print(\"You lose...\", computer, \"smashes\", player)\n",
    "                cpu_score+=1\n",
    "            else:\n",
    "                print(\"You win!\", player, \"cut\", computer)\n",
    "                player_score+=1\n",
    "        else:\n",
    "            pass\n",
    "        turn+=1\n",
    "    return (f\"CPU:{cpu_score}\"),(f\"Player:{player_score}\")\n",
    "game_maker()"
   ]
  },
  {
   "cell_type": "code",
   "execution_count": 11,
   "metadata": {},
   "outputs": [],
   "source": [
    "#6\n",
    "#Dice Roll Simulator with Python"
   ]
  },
  {
   "cell_type": "code",
   "execution_count": 15,
   "metadata": {},
   "outputs": [
    {
     "name": "stdout",
     "output_type": "stream",
     "text": [
      "Rolling The Dices\n",
      "The Values are :\n",
      "4\n",
      "2\n",
      "Roll the Dices Again?yes\n",
      "Rolling The Dices\n",
      "The Values are :\n",
      "2\n",
      "3\n",
      "Roll the Dices Again?yes\n",
      "Rolling The Dices\n",
      "The Values are :\n",
      "5\n",
      "5\n",
      "Roll the Dices Again?yu\n"
     ]
    }
   ],
   "source": [
    "#importing module for random number generation\n",
    "def Roll_Simulator():\n",
    "    import random\n",
    "\n",
    "    min_val = 1\n",
    "    max_val = 6\n",
    "\n",
    "    roll_again = \"yes\"\n",
    "\n",
    "    #loop\n",
    "    while roll_again == \"yes\" or roll_again == \"y\":\n",
    "        print(\"Rolling The Dices\")\n",
    "        print(\"The Values are :\")\n",
    "    \n",
    "        print(random.randint(min_val, max_val))\n",
    "    \n",
    "        print(random.randint(min_val, max_val))\n",
    "    \n",
    "        roll_again = input(\"Roll the Dices Again?\") \n",
    "Roll_Simulator()"
   ]
  },
  {
   "cell_type": "code",
   "execution_count": null,
   "metadata": {},
   "outputs": [],
   "source": [
    "#7\n",
    "#QR Codes with Python"
   ]
  },
  {
   "cell_type": "code",
   "execution_count": 1,
   "metadata": {},
   "outputs": [
    {
     "name": "stdout",
     "output_type": "stream",
     "text": [
      "Collecting pyqrcode\n",
      "  Downloading PyQRCode-1.2.1.tar.gz (36 kB)\n",
      "Building wheels for collected packages: pyqrcode\n",
      "  Building wheel for pyqrcode (setup.py): started\n",
      "  Building wheel for pyqrcode (setup.py): finished with status 'done'\n",
      "  Created wheel for pyqrcode: filename=PyQRCode-1.2.1-py3-none-any.whl size=36251 sha256=70cb0d059199cef3318626a74cd9ad4a191ef0a5c6f160701819745eb24d94d2\n",
      "  Stored in directory: c:\\users\\abhin\\appdata\\local\\pip\\cache\\wheels\\e1\\1a\\48\\c9d6b7295d3750a8d38001a2a3e86d8816e2e90964a0cc73cd\n",
      "Successfully built pyqrcode\n",
      "Installing collected packages: pyqrcode\n",
      "Successfully installed pyqrcode-1.2.1\n",
      "Note: you may need to restart the kernel to use updated packages.\n"
     ]
    }
   ],
   "source": [
    "#install  Python library\n",
    "#pip install pyqrcode"
   ]
  },
  {
   "cell_type": "code",
   "execution_count": 4,
   "metadata": {},
   "outputs": [],
   "source": [
    "import pyqrcode\n",
    "from pyqrcode import QRCode\n",
    "\n",
    "# String which represent the QR code \n",
    "s=\"https://www.kaggle.com/\"\n",
    "\n",
    "url=pyqrcode.create(s)\n",
    "\n",
    "# Create and save the png file naming \"myqr.png\" \n",
    "url.svg(\"kaggle.svg\", scale = 6)"
   ]
  },
  {
   "cell_type": "code",
   "execution_count": 14,
   "metadata": {},
   "outputs": [],
   "source": [
    "#8Create a Quiz Game with Python"
   ]
  },
  {
   "cell_type": "code",
   "execution_count": 33,
   "metadata": {},
   "outputs": [],
   "source": [
    "def quiz_game(que,correct_ans):\n",
    "    p_score=0 # player score\n",
    "    a=0  #a= 3 attempt will given\n",
    "    while a<3:\n",
    "        guess=input(\"enter the ans :\")\n",
    "        if guess.lower()==correct_ans.lower():\n",
    "            print(\"correct ans\")\n",
    "            p_score +=1\n",
    "            break\n",
    "        else:\n",
    "            print(\"Sorry Wrong Answer, try again\")\n",
    "        a +=1\n",
    "    if a==3:\n",
    "        print(\"the correct ans is \",correct_ans)\n",
    "    return ('player score is ',p_score)"
   ]
  },
  {
   "cell_type": "code",
   "execution_count": 34,
   "metadata": {},
   "outputs": [
    {
     "name": "stdout",
     "output_type": "stream",
     "text": [
      "enter the questionx\n",
      "enter the ans :ind\n",
      "Sorry Wrong Answer, try again\n",
      "enter the ans :ind\n",
      "Sorry Wrong Answer, try again\n",
      "enter the ans :rer\n",
      "Sorry Wrong Answer, try again\n",
      "the correct ans is  india\n"
     ]
    },
    {
     "data": {
      "text/plain": [
       "('player score is ', 0)"
      ]
     },
     "execution_count": 34,
     "metadata": {},
     "output_type": "execute_result"
    }
   ],
   "source": [
    "que=input(\"enter the question\")\n",
    "quiz_game(que,\"india\")"
   ]
  },
  {
   "cell_type": "code",
   "execution_count": 35,
   "metadata": {},
   "outputs": [],
   "source": [
    "#9\n",
    "#BMI Calculator with Python"
   ]
  },
  {
   "cell_type": "code",
   "execution_count": 4,
   "metadata": {},
   "outputs": [],
   "source": [
    "def BMI_Calculator():\n",
    "    Height=float(input(\"Enter your height in centimeters: \"))\n",
    "    Weight=float(input(\"Enter your Weight in Kg: \"))\n",
    "    Height = Height/100\n",
    "    BMI=Weight/(Height*Height)\n",
    "    print(\"your Body Mass Index is: \",BMI)\n",
    "    if(BMI>0):\n",
    "        if(BMI<=16):\n",
    "            print(\"you are severely underweight\")\n",
    "        elif(BMI<=18.5):\n",
    "            print(\"you are underweight\")\n",
    "        elif(BMI<=25):\n",
    "            print(\"you are Healthy\")\n",
    "        elif(BMI<=30):\n",
    "            print(\"you are overweight\")\n",
    "        else: \n",
    "            print(\"you are severely overweight\")\n",
    "    else:\n",
    "        print(\"enter valid details\")"
   ]
  },
  {
   "cell_type": "code",
   "execution_count": 5,
   "metadata": {},
   "outputs": [
    {
     "name": "stdout",
     "output_type": "stream",
     "text": [
      "Enter your height in centimeters: 185.92\n",
      "Enter your Weight in Kg: 85\n",
      "your Body Mass Index is:  24.590462908926092\n",
      "you are Healthy\n"
     ]
    }
   ],
   "source": [
    "BMI_Calculator()"
   ]
  },
  {
   "cell_type": "code",
   "execution_count": 6,
   "metadata": {},
   "outputs": [],
   "source": [
    "#10\n",
    "#Multiple Inputs with Python using While Loop\n",
    "#1st way"
   ]
  },
  {
   "cell_type": "code",
   "execution_count": 2,
   "metadata": {},
   "outputs": [
    {
     "name": "stdout",
     "output_type": "stream",
     "text": [
      "enter the input : 1\n",
      "enter the value: y\n",
      "enter the input : 2\n",
      "enter the value: y\n",
      "enter the input : 3\n",
      "enter the value: no\n"
     ]
    }
   ],
   "source": [
    "value=\"yes\"\n",
    "while value==\"yes\" or value==\"y\":\n",
    "    v=input(\"enter the input : \")\n",
    "    value=input(\"enter the value: \")"
   ]
  },
  {
   "cell_type": "code",
   "execution_count": 3,
   "metadata": {},
   "outputs": [],
   "source": [
    "#2nd way "
   ]
  },
  {
   "cell_type": "code",
   "execution_count": 6,
   "metadata": {},
   "outputs": [
    {
     "name": "stdout",
     "output_type": "stream",
     "text": [
      "enter the input : 1\n",
      "enter the input : \n",
      "enter the input : 2\n",
      "enter the input : 3\n",
      "enter the input : 4\n",
      "enter the input : stop\n"
     ]
    }
   ],
   "source": [
    "while True:\n",
    "    v=input(\"enter the input : \")\n",
    "    if v==\"stop\":\n",
    "        break"
   ]
  },
  {
   "cell_type": "code",
   "execution_count": 7,
   "metadata": {},
   "outputs": [],
   "source": [
    "#11Convert Roman Numbers to Decimals"
   ]
  },
  {
   "cell_type": "code",
   "execution_count": null,
   "metadata": {},
   "outputs": [],
   "source": [
    "            #using dictionary function  #Return the value for key if key is in the dictionary, else default"
   ]
  },
  {
   "cell_type": "code",
   "execution_count": 30,
   "metadata": {},
   "outputs": [],
   "source": [
    "def  Roman_to_decimal():\n",
    "    dic={\"I\":1, \"V\": 5, \"X\": 10, \"C\": 100, \"D\": 500, \"M\": 1000}\n",
    "    roman=input(\"enter the roman value: \")\n",
    "    if roman.isalpha()==True:\n",
    "        num=[]\n",
    "        for x in roman.upper():\n",
    "            num.append(dic.get(x)) #Return the value for key if key is in the dictionary, else default\n",
    "    else:\n",
    "        print(\"enter a valid roman numbers\")\n",
    "        num=[0]\n",
    "    return sum(num)"
   ]
  },
  {
   "cell_type": "code",
   "execution_count": 31,
   "metadata": {},
   "outputs": [
    {
     "name": "stdout",
     "output_type": "stream",
     "text": [
      "enter the roman value: MD\n"
     ]
    },
    {
     "data": {
      "text/plain": [
       "1500"
      ]
     },
     "execution_count": 31,
     "metadata": {},
     "output_type": "execute_result"
    }
   ],
   "source": [
    "Roman_to_numbers()"
   ]
  },
  {
   "cell_type": "code",
   "execution_count": null,
   "metadata": {},
   "outputs": [],
   "source": []
  }
 ],
 "metadata": {
  "kernelspec": {
   "display_name": "Python 3",
   "language": "python",
   "name": "python3"
  },
  "language_info": {
   "codemirror_mode": {
    "name": "ipython",
    "version": 3
   },
   "file_extension": ".py",
   "mimetype": "text/x-python",
   "name": "python",
   "nbconvert_exporter": "python",
   "pygments_lexer": "ipython3",
   "version": "3.8.3"
  }
 },
 "nbformat": 4,
 "nbformat_minor": 4
}
